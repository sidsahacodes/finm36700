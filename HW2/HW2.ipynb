{
 "cells": [
  {
   "cell_type": "code",
   "execution_count": 27,
   "metadata": {},
   "outputs": [
    {
     "name": "stdout",
     "output_type": "stream",
     "text": [
      "Annualized Mean, Volatility, and Sharpe of Returns\n"
     ]
    },
    {
     "data": {
      "text/plain": [
       "HFRIFWI Index     0.052538\n",
       "MLEIFCTR Index    0.038535\n",
       "MLEIFCTX Index    0.036526\n",
       "HDG US Equity     0.026880\n",
       "QAI US Equity     0.028811\n",
       "dtype: float64"
      ]
     },
     "metadata": {},
     "output_type": "display_data"
    },
    {
     "data": {
      "text/plain": [
       "HFRIFWI Index     0.058813\n",
       "MLEIFCTR Index    0.055240\n",
       "MLEIFCTX Index    0.055102\n",
       "HDG US Equity     0.057388\n",
       "QAI US Equity     0.049823\n",
       "dtype: float64"
      ]
     },
     "metadata": {},
     "output_type": "display_data"
    },
    {
     "data": {
      "text/plain": [
       "HFRIFWI Index     0.893298\n",
       "MLEIFCTR Index    0.697589\n",
       "MLEIFCTX Index    0.662880\n",
       "HDG US Equity     0.468396\n",
       "QAI US Equity     0.578275\n",
       "dtype: float64"
      ]
     },
     "metadata": {},
     "output_type": "display_data"
    }
   ],
   "source": [
    "import pandas as pd\n",
    "import numpy as np\n",
    "import scipy.stats as sci\n",
    "\n",
    "data = pd.read_excel(\"proshares_analysis_data.xlsx\", sheet_name=\"hedge_fund_series\",index_col=0)\n",
    "# Forward-fill missing return value at end of HFRIFWI series\n",
    "data[\"HFRIFWI Index\"] = data[\"HFRIFWI Index\"].ffill()\n",
    "\n",
    "mean = data.mean() * 12\n",
    "vol = np.sqrt(data.var() * 12)\n",
    "sharpe = mean / vol\n",
    "print(\"Annualized Mean, Volatility, and Sharpe of Returns\")\n",
    "display(mean, vol, sharpe)"
   ]
  },
  {
   "cell_type": "code",
   "execution_count": 38,
   "metadata": {},
   "outputs": [],
   "source": [
    "def drawdown_from_returns(df):\n",
    "    results = {}\n",
    "\n",
    "    for col in df.columns:\n",
    "        s = df[col].dropna()\n",
    "        if s.empty:\n",
    "            results[col] = [0.0, None, None, None]\n",
    "            continue\n",
    "\n",
    "        cumulative = (1 + s).cumprod()\n",
    "        running_max = cumulative.cummax()\n",
    "        drawdown = cumulative / running_max - 1.0\n",
    "\n",
    "        trough = drawdown.idxmin()\n",
    "        peak_level = running_max.loc[trough]\n",
    "        peak = running_max.loc[:trough]\n",
    "        peak = peak[peak == peak_level].index[-1]\n",
    "\n",
    "        post = cumulative.loc[trough:]\n",
    "        rec_hits = post[post >= peak_level]\n",
    "        recovery = rec_hits.index[0] if len(rec_hits) > 0 else None\n",
    "\n",
    "        results[col] = [float(drawdown.min()), peak, trough, recovery]\n",
    "\n",
    "    return pd.DataFrame(results, index=[\"Max Drawdown\", \"Peak Date\", \"Trough Date\", \"Recovery Date\"]).T"
   ]
  },
  {
   "cell_type": "code",
   "execution_count": 40,
   "metadata": {},
   "outputs": [
    {
     "name": "stdout",
     "output_type": "stream",
     "text": [
      "Skew, Excess Kurtosis, VaR, CVaR, and Max Drawdowns\n"
     ]
    },
    {
     "data": {
      "text/plain": [
       "HFRIFWI Index    -0.945171\n",
       "MLEIFCTR Index   -0.287417\n",
       "MLEIFCTX Index   -0.271058\n",
       "HDG US Equity    -0.272473\n",
       "QAI US Equity    -0.429674\n",
       "dtype: float64"
      ]
     },
     "metadata": {},
     "output_type": "display_data"
    },
    {
     "data": {
      "text/plain": [
       "HFRIFWI Index     5.426550\n",
       "MLEIFCTR Index    1.548255\n",
       "MLEIFCTX Index    1.508328\n",
       "HDG US Equity     1.689572\n",
       "QAI US Equity     1.371823\n",
       "dtype: float64"
      ]
     },
     "metadata": {},
     "output_type": "display_data"
    },
    {
     "data": {
      "text/plain": [
       "HFRIFWI Index    -0.023997\n",
       "MLEIFCTR Index   -0.027002\n",
       "MLEIFCTX Index   -0.026970\n",
       "HDG US Equity    -0.029919\n",
       "QAI US Equity    -0.017171\n",
       "Name: 0.05, dtype: float64"
      ]
     },
     "metadata": {},
     "output_type": "display_data"
    },
    {
     "data": {
      "text/plain": [
       "HFRIFWI Index    -0.035992\n",
       "MLEIFCTR Index   -0.034993\n",
       "MLEIFCTX Index   -0.034937\n",
       "HDG US Equity    -0.036831\n",
       "QAI US Equity    -0.030995\n",
       "dtype: float64"
      ]
     },
     "metadata": {},
     "output_type": "display_data"
    },
    {
     "data": {
      "text/html": [
       "<div>\n",
       "<style scoped>\n",
       "    .dataframe tbody tr th:only-of-type {\n",
       "        vertical-align: middle;\n",
       "    }\n",
       "\n",
       "    .dataframe tbody tr th {\n",
       "        vertical-align: top;\n",
       "    }\n",
       "\n",
       "    .dataframe thead th {\n",
       "        text-align: right;\n",
       "    }\n",
       "</style>\n",
       "<table border=\"1\" class=\"dataframe\">\n",
       "  <thead>\n",
       "    <tr style=\"text-align: right;\">\n",
       "      <th></th>\n",
       "      <th>Max Drawdown</th>\n",
       "      <th>Peak Date</th>\n",
       "      <th>Trough Date</th>\n",
       "      <th>Recovery Date</th>\n",
       "    </tr>\n",
       "  </thead>\n",
       "  <tbody>\n",
       "    <tr>\n",
       "      <th>HFRIFWI Index</th>\n",
       "      <td>-0.115473</td>\n",
       "      <td>2020-03-31 00:00:00</td>\n",
       "      <td>2020-03-31 00:00:00</td>\n",
       "      <td>2020-08-31 00:00:00</td>\n",
       "    </tr>\n",
       "    <tr>\n",
       "      <th>MLEIFCTR Index</th>\n",
       "      <td>-0.124302</td>\n",
       "      <td>2022-09-30 00:00:00</td>\n",
       "      <td>2022-09-30 00:00:00</td>\n",
       "      <td>2024-02-29 00:00:00</td>\n",
       "    </tr>\n",
       "    <tr>\n",
       "      <th>MLEIFCTX Index</th>\n",
       "      <td>-0.124388</td>\n",
       "      <td>2022-09-30 00:00:00</td>\n",
       "      <td>2022-09-30 00:00:00</td>\n",
       "      <td>2024-02-29 00:00:00</td>\n",
       "    </tr>\n",
       "    <tr>\n",
       "      <th>HDG US Equity</th>\n",
       "      <td>-0.14072</td>\n",
       "      <td>2022-09-30 00:00:00</td>\n",
       "      <td>2022-09-30 00:00:00</td>\n",
       "      <td>2024-07-31 00:00:00</td>\n",
       "    </tr>\n",
       "    <tr>\n",
       "      <th>QAI US Equity</th>\n",
       "      <td>-0.137716</td>\n",
       "      <td>2022-09-30 00:00:00</td>\n",
       "      <td>2022-09-30 00:00:00</td>\n",
       "      <td>2024-02-29 00:00:00</td>\n",
       "    </tr>\n",
       "  </tbody>\n",
       "</table>\n",
       "</div>"
      ],
      "text/plain": [
       "               Max Drawdown            Peak Date          Trough Date  \\\n",
       "HFRIFWI Index     -0.115473  2020-03-31 00:00:00  2020-03-31 00:00:00   \n",
       "MLEIFCTR Index    -0.124302  2022-09-30 00:00:00  2022-09-30 00:00:00   \n",
       "MLEIFCTX Index    -0.124388  2022-09-30 00:00:00  2022-09-30 00:00:00   \n",
       "HDG US Equity      -0.14072  2022-09-30 00:00:00  2022-09-30 00:00:00   \n",
       "QAI US Equity     -0.137716  2022-09-30 00:00:00  2022-09-30 00:00:00   \n",
       "\n",
       "                      Recovery Date  \n",
       "HFRIFWI Index   2020-08-31 00:00:00  \n",
       "MLEIFCTR Index  2024-02-29 00:00:00  \n",
       "MLEIFCTX Index  2024-02-29 00:00:00  \n",
       "HDG US Equity   2024-07-31 00:00:00  \n",
       "QAI US Equity   2024-02-29 00:00:00  "
      ]
     },
     "metadata": {},
     "output_type": "display_data"
    }
   ],
   "source": [
    "skew = sci.skew(data)\n",
    "kurtosis = sci.kurtosis(data, fisher=True)\n",
    "VaR = data.quantile(0.05)\n",
    "CVaR = data[data <= VaR].mean()\n",
    "drawdowns = drawdown_from_returns(data)\n",
    "skew = pd.Series(skew, index=mean.index)\n",
    "kurtosis = pd.Series(kurtosis, index=mean.index)\n",
    "VaR = pd.Series(VaR, index=mean.index)\n",
    "CVaR = pd.Series(CVaR, index=mean.index)\n",
    "print(\"Skew, Excess Kurtosis, VaR, CVaR, and Max Drawdowns\")\n",
    "display(skew, kurtosis, VaR, CVaR, drawdowns)"
   ]
  }
 ],
 "metadata": {
  "kernelspec": {
   "display_name": "base",
   "language": "python",
   "name": "python3"
  },
  "language_info": {
   "codemirror_mode": {
    "name": "ipython",
    "version": 3
   },
   "file_extension": ".py",
   "mimetype": "text/x-python",
   "name": "python",
   "nbconvert_exporter": "python",
   "pygments_lexer": "ipython3",
   "version": "3.12.4"
  },
  "orig_nbformat": 4
 },
 "nbformat": 4,
 "nbformat_minor": 2
}
