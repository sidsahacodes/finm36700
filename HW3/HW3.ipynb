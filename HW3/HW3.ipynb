{
 "cells": [
  {
   "cell_type": "markdown",
   "id": "ae466be4",
   "metadata": {},
   "source": [
    "# Exercise - VaR"
   ]
  },
  {
   "cell_type": "code",
   "execution_count": 1,
   "id": "ecab3ad5",
   "metadata": {},
   "outputs": [],
   "source": [
    "import pandas as pd\n",
    "import numpy as np"
   ]
  },
  {
   "cell_type": "markdown",
   "id": "d32f885f",
   "metadata": {},
   "source": [
    "# Data \n",
    "##### (We will be looking at AAPL, META, NVDA and TSLA)"
   ]
  },
  {
   "cell_type": "code",
   "execution_count": 8,
   "id": "b4b4f787",
   "metadata": {},
   "outputs": [],
   "source": [
    "# Load Data\n",
    "tiks = ['AAPL', 'META', 'NVDA', 'TSLA']\n",
    "file_path = \"spx_returns_weekly.xlsx\"\n",
    "df = pd.read_excel(file_path, sheet_name=2, usecols=tiks) \n"
   ]
  },
  {
   "cell_type": "markdown",
   "id": "f8e714ba",
   "metadata": {},
   "source": [
    "# Diversification\n",
    "\n",
    "### 1.1 Calculate Volatility, Empirical Var(0.05), Empirical CVaR(0.05)"
   ]
  },
  {
   "cell_type": "code",
   "execution_count": 22,
   "id": "c8277ad6",
   "metadata": {},
   "outputs": [
    {
     "data": {
      "text/html": [
       "<div>\n",
       "<style scoped>\n",
       "    .dataframe tbody tr th:only-of-type {\n",
       "        vertical-align: middle;\n",
       "    }\n",
       "\n",
       "    .dataframe tbody tr th {\n",
       "        vertical-align: top;\n",
       "    }\n",
       "\n",
       "    .dataframe thead th {\n",
       "        text-align: right;\n",
       "    }\n",
       "</style>\n",
       "<table border=\"1\" class=\"dataframe\">\n",
       "  <thead>\n",
       "    <tr style=\"text-align: right;\">\n",
       "      <th></th>\n",
       "      <th>Volatility</th>\n",
       "      <th>VaR(0.05)</th>\n",
       "      <th>CVaR(0.05)</th>\n",
       "    </tr>\n",
       "  </thead>\n",
       "  <tbody>\n",
       "    <tr>\n",
       "      <th>AAPL</th>\n",
       "      <td>0.038362</td>\n",
       "      <td>-0.056366</td>\n",
       "      <td>-0.083125</td>\n",
       "    </tr>\n",
       "    <tr>\n",
       "      <th>META</th>\n",
       "      <td>0.048722</td>\n",
       "      <td>-0.070012</td>\n",
       "      <td>-0.103196</td>\n",
       "    </tr>\n",
       "    <tr>\n",
       "      <th>NVDA</th>\n",
       "      <td>0.064246</td>\n",
       "      <td>-0.086853</td>\n",
       "      <td>-0.116455</td>\n",
       "    </tr>\n",
       "    <tr>\n",
       "      <th>TSLA</th>\n",
       "      <td>0.081323</td>\n",
       "      <td>-0.117397</td>\n",
       "      <td>-0.147814</td>\n",
       "    </tr>\n",
       "  </tbody>\n",
       "</table>\n",
       "</div>"
      ],
      "text/plain": [
       "      Volatility  VaR(0.05)  CVaR(0.05)\n",
       "AAPL    0.038362  -0.056366   -0.083125\n",
       "META    0.048722  -0.070012   -0.103196\n",
       "NVDA    0.064246  -0.086853   -0.116455\n",
       "TSLA    0.081323  -0.117397   -0.147814"
      ]
     },
     "execution_count": 22,
     "metadata": {},
     "output_type": "execute_result"
    }
   ],
   "source": [
    "volatility = df.std(ddof=1)\n",
    "var05 = df.quantile(0.05)\n",
    "cvar05 = df.apply(lambda x: x[x <= x.quantile(0.05)].mean())\n",
    "\n",
    "summary = pd.DataFrame({'Volatility': volatility, 'VaR(0.05)': var05, 'CVaR(0.05)': cvar05})\n",
    "summary"
   ]
  },
  {
   "cell_type": "markdown",
   "id": "0d494890",
   "metadata": {},
   "source": [
    "#### 1.2 Equally weighted portfolio"
   ]
  },
  {
   "cell_type": "code",
   "execution_count": 20,
   "id": "7de1a6b7",
   "metadata": {},
   "outputs": [
    {
     "data": {
      "text/html": [
       "<div>\n",
       "<style scoped>\n",
       "    .dataframe tbody tr th:only-of-type {\n",
       "        vertical-align: middle;\n",
       "    }\n",
       "\n",
       "    .dataframe tbody tr th {\n",
       "        vertical-align: top;\n",
       "    }\n",
       "\n",
       "    .dataframe thead th {\n",
       "        text-align: right;\n",
       "    }\n",
       "</style>\n",
       "<table border=\"1\" class=\"dataframe\">\n",
       "  <thead>\n",
       "    <tr style=\"text-align: right;\">\n",
       "      <th></th>\n",
       "      <th>Volatility</th>\n",
       "      <th>VaR(0.05)</th>\n",
       "      <th>CVaR(0.05)</th>\n",
       "    </tr>\n",
       "  </thead>\n",
       "  <tbody>\n",
       "    <tr>\n",
       "      <th>Equally Weighted Portfolio</th>\n",
       "      <td>0.0438</td>\n",
       "      <td>-0.0619</td>\n",
       "      <td>-0.085</td>\n",
       "    </tr>\n",
       "  </tbody>\n",
       "</table>\n",
       "</div>"
      ],
      "text/plain": [
       "                            Volatility  VaR(0.05)  CVaR(0.05)\n",
       "Equally Weighted Portfolio      0.0438    -0.0619      -0.085"
      ]
     },
     "execution_count": 20,
     "metadata": {},
     "output_type": "execute_result"
    }
   ],
   "source": [
    "ew_portfolio_returns = df.mean(axis=1) # Equally weighted portfolio\n",
    "ew_portfolio_returns_vol  = ew_portfolio_returns.std(ddof=1) ## degree of freedom = 1 for sample std not population in that case it would be ddof=0\n",
    "ew_portfolio_returns_var  = ew_portfolio_returns.quantile(0.05) \n",
    "ew_portfolio_returns_cvar = ew_portfolio_returns[ew_portfolio_returns <= ew_portfolio_returns_var].mean()\n",
    "\n",
    "portfolio_summary = pd.DataFrame({\n",
    "    'Volatility': [ew_portfolio_returns_vol],\n",
    "    'VaR(0.05)': [ew_portfolio_returns_var],\n",
    "    'CVaR(0.05)': [ew_portfolio_returns_cvar]\n",
    "}, index=['Equally Weighted Portfolio']).round(4)\n",
    "\n",
    "portfolio_summary"
   ]
  },
  {
   "cell_type": "code",
   "execution_count": 21,
   "id": "24973c7d",
   "metadata": {},
   "outputs": [
    {
     "data": {
      "text/html": [
       "<div>\n",
       "<style scoped>\n",
       "    .dataframe tbody tr th:only-of-type {\n",
       "        vertical-align: middle;\n",
       "    }\n",
       "\n",
       "    .dataframe tbody tr th {\n",
       "        vertical-align: top;\n",
       "    }\n",
       "\n",
       "    .dataframe thead th {\n",
       "        text-align: right;\n",
       "    }\n",
       "</style>\n",
       "<table border=\"1\" class=\"dataframe\">\n",
       "  <thead>\n",
       "    <tr style=\"text-align: right;\">\n",
       "      <th></th>\n",
       "      <th>Volatility</th>\n",
       "      <th>VaR(0.05)</th>\n",
       "      <th>CVaR(0.05)</th>\n",
       "    </tr>\n",
       "  </thead>\n",
       "  <tbody>\n",
       "    <tr>\n",
       "      <th>AAPL</th>\n",
       "      <td>0.038362</td>\n",
       "      <td>-0.056366</td>\n",
       "      <td>-0.083125</td>\n",
       "    </tr>\n",
       "    <tr>\n",
       "      <th>META</th>\n",
       "      <td>0.048722</td>\n",
       "      <td>-0.070012</td>\n",
       "      <td>-0.103196</td>\n",
       "    </tr>\n",
       "    <tr>\n",
       "      <th>NVDA</th>\n",
       "      <td>0.064246</td>\n",
       "      <td>-0.086853</td>\n",
       "      <td>-0.116455</td>\n",
       "    </tr>\n",
       "    <tr>\n",
       "      <th>TSLA</th>\n",
       "      <td>0.081323</td>\n",
       "      <td>-0.117397</td>\n",
       "      <td>-0.147814</td>\n",
       "    </tr>\n",
       "    <tr>\n",
       "      <th>Equally Weighted Portfolio</th>\n",
       "      <td>0.043800</td>\n",
       "      <td>-0.061900</td>\n",
       "      <td>-0.085000</td>\n",
       "    </tr>\n",
       "  </tbody>\n",
       "</table>\n",
       "</div>"
      ],
      "text/plain": [
       "                            Volatility  VaR(0.05)  CVaR(0.05)\n",
       "AAPL                          0.038362  -0.056366   -0.083125\n",
       "META                          0.048722  -0.070012   -0.103196\n",
       "NVDA                          0.064246  -0.086853   -0.116455\n",
       "TSLA                          0.081323  -0.117397   -0.147814\n",
       "Equally Weighted Portfolio    0.043800  -0.061900   -0.085000"
      ]
     },
     "execution_count": 21,
     "metadata": {},
     "output_type": "execute_result"
    }
   ],
   "source": [
    "combined = pd.concat([summary, portfolio_summary])\n",
    "combined\n"
   ]
  },
  {
   "cell_type": "markdown",
   "id": "fd950ec3",
   "metadata": {},
   "source": [
    "#### 1.3 Re-calculate 1.2, but this time drop your most volatile asset, and replace the portion it was getting with 0. (You could imagine we’re replacing the most volatile asset with a negligibly small risk-free rate.)\n",
    "\n",
    "\n",
    "\n"
   ]
  },
  {
   "cell_type": "code",
   "execution_count": 19,
   "id": "9145d4e0",
   "metadata": {},
   "outputs": [
    {
     "name": "stdout",
     "output_type": "stream",
     "text": [
      "Most volatile stock: TSLA\n"
     ]
    }
   ],
   "source": [
    "most_volatile = summary['Volatility'].idxmax()\n",
    "print(\"Most volatile stock:\", most_volatile)"
   ]
  },
  {
   "cell_type": "code",
   "execution_count": 26,
   "id": "3c6e0a54",
   "metadata": {},
   "outputs": [
    {
     "data": {
      "text/html": [
       "<div>\n",
       "<style scoped>\n",
       "    .dataframe tbody tr th:only-of-type {\n",
       "        vertical-align: middle;\n",
       "    }\n",
       "\n",
       "    .dataframe tbody tr th {\n",
       "        vertical-align: top;\n",
       "    }\n",
       "\n",
       "    .dataframe thead th {\n",
       "        text-align: right;\n",
       "    }\n",
       "</style>\n",
       "<table border=\"1\" class=\"dataframe\">\n",
       "  <thead>\n",
       "    <tr style=\"text-align: right;\">\n",
       "      <th></th>\n",
       "      <th>Volatility</th>\n",
       "      <th>VaR(0.05)</th>\n",
       "      <th>CVaR(0.05)</th>\n",
       "    </tr>\n",
       "  </thead>\n",
       "  <tbody>\n",
       "    <tr>\n",
       "      <th>AAPL</th>\n",
       "      <td>0.038362</td>\n",
       "      <td>-0.056366</td>\n",
       "      <td>-0.083125</td>\n",
       "    </tr>\n",
       "    <tr>\n",
       "      <th>META</th>\n",
       "      <td>0.048722</td>\n",
       "      <td>-0.070012</td>\n",
       "      <td>-0.103196</td>\n",
       "    </tr>\n",
       "    <tr>\n",
       "      <th>NVDA</th>\n",
       "      <td>0.064246</td>\n",
       "      <td>-0.086853</td>\n",
       "      <td>-0.116455</td>\n",
       "    </tr>\n",
       "    <tr>\n",
       "      <th>TSLA</th>\n",
       "      <td>0.081323</td>\n",
       "      <td>-0.117397</td>\n",
       "      <td>-0.147814</td>\n",
       "    </tr>\n",
       "    <tr>\n",
       "      <th>Equally Weighted Portfolio</th>\n",
       "      <td>0.043800</td>\n",
       "      <td>-0.061900</td>\n",
       "      <td>-0.085000</td>\n",
       "    </tr>\n",
       "    <tr>\n",
       "      <th>EWP (One Asset Replaced by Risk-Free)</th>\n",
       "      <td>0.030300</td>\n",
       "      <td>-0.042500</td>\n",
       "      <td>-0.060500</td>\n",
       "    </tr>\n",
       "  </tbody>\n",
       "</table>\n",
       "</div>"
      ],
      "text/plain": [
       "                                       Volatility  VaR(0.05)  CVaR(0.05)\n",
       "AAPL                                     0.038362  -0.056366   -0.083125\n",
       "META                                     0.048722  -0.070012   -0.103196\n",
       "NVDA                                     0.064246  -0.086853   -0.116455\n",
       "TSLA                                     0.081323  -0.117397   -0.147814\n",
       "Equally Weighted Portfolio               0.043800  -0.061900   -0.085000\n",
       "EWP (One Asset Replaced by Risk-Free)    0.030300  -0.042500   -0.060500"
      ]
     },
     "execution_count": 26,
     "metadata": {},
     "output_type": "execute_result"
    }
   ],
   "source": [
    "df_adj = df.copy()\n",
    "df_adj[most_volatile] = 0\n",
    "ew_portfolio_returns_adj = df_adj.mean(axis=1)\n",
    "ew_portfolio_returns_adj_vol  = ew_portfolio_returns_adj.std(ddof=1)\n",
    "ew_portfolio_returns_adj_var  = ew_portfolio_returns_adj.quantile(0.05)\n",
    "ew_portfolio_returns_adj_cvar = ew_portfolio_returns_adj[ew_portfolio_returns_adj  <= ew_portfolio_returns_adj_var].mean()\n",
    "\n",
    "adjusted_port_summary = pd.DataFrame({\n",
    "    'Volatility': [ew_portfolio_returns_adj_vol],\n",
    "    'VaR(0.05)': [ew_portfolio_returns_adj_var],\n",
    "    'CVaR(0.05)': [ew_portfolio_returns_adj_cvar]\n",
    "}, index=['EWP (One Asset Replaced by Risk-Free)']).round(4)\n",
    "\n",
    "combined_results = pd.concat([summary, portfolio_summary, adjusted_port_summary])\n",
    "combined_results"
   ]
  },
  {
   "cell_type": "markdown",
   "id": "5d19c7fa",
   "metadata": {},
   "source": [
    "##### In comparing the answer here to 1.2, how much risk is your most volatile asset adding to the portfolio? Is this in line with the amount of risk we measured in the stand-alone risk-assessment of 1.1?\n",
    "\n",
    "TSLA contributes about 30–31% of the portfolio’s total risk, despite only a 25% weight. This aligns with its high stand-alone volatility (8.13%), confirming that the most volatile stock drives a large part of portfolio risk.\n",
    "\n",
    "When removed and replaced by a risk-free asset, portfolio volatility, VaR, and CVaR all drop substantially — showing that the high-volatility asset was the key driver of risk exposure."
   ]
  },
  {
   "cell_type": "markdown",
   "id": "ec5eab3a",
   "metadata": {},
   "source": [
    "# 2. Dynamic Measures"
   ]
  },
  {
   "cell_type": "markdown",
   "id": "1df96d80",
   "metadata": {},
   "source": [
    "### 2.1 Conditional Statistics"
   ]
  },
  {
   "cell_type": "markdown",
   "id": "9ca7e1cf",
   "metadata": {},
   "source": [
    "#### Rolling Volatility"
   ]
  },
  {
   "cell_type": "code",
   "execution_count": null,
   "id": "73b0de8d",
   "metadata": {},
   "outputs": [
    {
     "data": {
      "text/html": [
       "<div>\n",
       "<style scoped>\n",
       "    .dataframe tbody tr th:only-of-type {\n",
       "        vertical-align: middle;\n",
       "    }\n",
       "\n",
       "    .dataframe tbody tr th {\n",
       "        vertical-align: top;\n",
       "    }\n",
       "\n",
       "    .dataframe thead th {\n",
       "        text-align: right;\n",
       "    }\n",
       "</style>\n",
       "<table border=\"1\" class=\"dataframe\">\n",
       "  <thead>\n",
       "    <tr style=\"text-align: right;\">\n",
       "      <th></th>\n",
       "      <th>AAPL</th>\n",
       "      <th>META</th>\n",
       "      <th>NVDA</th>\n",
       "      <th>TSLA</th>\n",
       "    </tr>\n",
       "  </thead>\n",
       "  <tbody>\n",
       "    <tr>\n",
       "      <th>26</th>\n",
       "      <td>0.028078</td>\n",
       "      <td>0.029184</td>\n",
       "      <td>0.047337</td>\n",
       "      <td>0.048927</td>\n",
       "    </tr>\n",
       "    <tr>\n",
       "      <th>27</th>\n",
       "      <td>0.028469</td>\n",
       "      <td>0.029057</td>\n",
       "      <td>0.047782</td>\n",
       "      <td>0.049967</td>\n",
       "    </tr>\n",
       "    <tr>\n",
       "      <th>28</th>\n",
       "      <td>0.027327</td>\n",
       "      <td>0.031460</td>\n",
       "      <td>0.047875</td>\n",
       "      <td>0.048403</td>\n",
       "    </tr>\n",
       "    <tr>\n",
       "      <th>29</th>\n",
       "      <td>0.026254</td>\n",
       "      <td>0.031113</td>\n",
       "      <td>0.047745</td>\n",
       "      <td>0.048958</td>\n",
       "    </tr>\n",
       "    <tr>\n",
       "      <th>30</th>\n",
       "      <td>0.026017</td>\n",
       "      <td>0.031376</td>\n",
       "      <td>0.045734</td>\n",
       "      <td>0.048990</td>\n",
       "    </tr>\n",
       "    <tr>\n",
       "      <th>...</th>\n",
       "      <td>...</td>\n",
       "      <td>...</td>\n",
       "      <td>...</td>\n",
       "      <td>...</td>\n",
       "    </tr>\n",
       "    <tr>\n",
       "      <th>537</th>\n",
       "      <td>0.046115</td>\n",
       "      <td>0.051540</td>\n",
       "      <td>0.076226</td>\n",
       "      <td>0.100697</td>\n",
       "    </tr>\n",
       "    <tr>\n",
       "      <th>538</th>\n",
       "      <td>0.047947</td>\n",
       "      <td>0.054819</td>\n",
       "      <td>0.078598</td>\n",
       "      <td>0.097651</td>\n",
       "    </tr>\n",
       "    <tr>\n",
       "      <th>539</th>\n",
       "      <td>0.047564</td>\n",
       "      <td>0.057596</td>\n",
       "      <td>0.078556</td>\n",
       "      <td>0.096224</td>\n",
       "    </tr>\n",
       "    <tr>\n",
       "      <th>540</th>\n",
       "      <td>0.047741</td>\n",
       "      <td>0.057173</td>\n",
       "      <td>0.076363</td>\n",
       "      <td>0.077772</td>\n",
       "    </tr>\n",
       "    <tr>\n",
       "      <th>541</th>\n",
       "      <td>0.049628</td>\n",
       "      <td>0.057751</td>\n",
       "      <td>0.082727</td>\n",
       "      <td>0.084876</td>\n",
       "    </tr>\n",
       "  </tbody>\n",
       "</table>\n",
       "<p>516 rows × 4 columns</p>\n",
       "</div>"
      ],
      "text/plain": [
       "         AAPL      META      NVDA      TSLA\n",
       "26   0.028078  0.029184  0.047337  0.048927\n",
       "27   0.028469  0.029057  0.047782  0.049967\n",
       "28   0.027327  0.031460  0.047875  0.048403\n",
       "29   0.026254  0.031113  0.047745  0.048958\n",
       "30   0.026017  0.031376  0.045734  0.048990\n",
       "..        ...       ...       ...       ...\n",
       "537  0.046115  0.051540  0.076226  0.100697\n",
       "538  0.047947  0.054819  0.078598  0.097651\n",
       "539  0.047564  0.057596  0.078556  0.096224\n",
       "540  0.047741  0.057173  0.076363  0.077772\n",
       "541  0.049628  0.057751  0.082727  0.084876\n",
       "\n",
       "[516 rows x 4 columns]"
      ]
     },
     "execution_count": 32,
     "metadata": {},
     "output_type": "execute_result"
    }
   ],
   "source": [
    "dynamic_metrics_df = df.copy()\n",
    "m = 26  # rolling window size\n",
    "rolling_vol = dynamic_metrics_df.rolling(window=m, min_periods=m).std(ddof=1)  # σ_t using data through t\n",
    "rolling_vol_pred = rolling_vol.shift(1)\n",
    "rolling_vol_pred.dropna(inplace=True) #drop first 26 rows...\n",
    "rolling_vol_pred"
   ]
  },
  {
   "cell_type": "code",
   "execution_count": 33,
   "id": "70734ee4",
   "metadata": {},
   "outputs": [
    {
     "name": "stdout",
     "output_type": "stream",
     "text": [
      "      Forecasted Volatility (σ_t)  Normal VaR(0.05)  Normal CVaR(0.05)\n",
      "AAPL                       0.0496           -0.0819            -0.1015\n",
      "META                       0.0578           -0.0953            -0.1181\n",
      "NVDA                       0.0827           -0.1365            -0.1692\n",
      "TSLA                       0.0849           -0.1400            -0.1736\n"
     ]
    }
   ],
   "source": [
    "z05 = -1.65\n",
    "phi_z05 = (1 / np.sqrt(2 * np.pi)) * np.exp(-0.5 * z05**2)  # ≈ 0.1031\n",
    "\n",
    "normal_VaR = z05 * rolling_vol_pred\n",
    "normal_CVaR = - (phi_z05 / 0.05) * rolling_vol_pred\n",
    "\n",
    "# Step 4: End-of-sample results (latest volatility-based risk forecast)\n",
    "end_stats = pd.DataFrame({\n",
    "    'Forecasted Volatility (σ_t)': rolling_vol_pred.iloc[-1],\n",
    "    'Normal VaR(0.05)': normal_VaR.iloc[-1],\n",
    "    'Normal CVaR(0.05)': normal_CVaR.iloc[-1]\n",
    "}).round(4)\n",
    "\n",
    "print(end_stats)"
   ]
  },
  {
   "cell_type": "markdown",
   "id": "f809d0ef",
   "metadata": {},
   "source": [
    "The conditional (forecasted) estimates reflect current risk levels — they respond quickly to spikes in volatility.\n",
    "\n",
    "The unconditional estimates reflect average risk over the full period — they are smoother and less responsive.\n",
    "\n",
    "Therefore, it’s completely expected that your rolling-window (m=26) VaR and CVaR are more negative than the long-term averages if recent volatility has increased."
   ]
  },
  {
   "cell_type": "code",
   "execution_count": 36,
   "id": "3c4ccde9",
   "metadata": {},
   "outputs": [
    {
     "name": "stdout",
     "output_type": "stream",
     "text": [
      "      Hit % (Expanding vol)  Hit % (Rolling vol, m=26)\n",
      "AAPL                   4.24                       4.98\n",
      "META                   4.61                       4.24\n",
      "NVDA                   2.77                       4.24\n",
      "TSLA                   6.27                       4.98\n"
     ]
    }
   ],
   "source": [
    "from scipy.stats import norm\n",
    "import matplotlib.pyplot as plt\n",
    "\n",
    "QUANTILE = 0.05\n",
    "WINDOW   = 26\n",
    "z05 = -1.65  # already defined above\n",
    "\n",
    "# 1) Vol forecasts (σ_{t|t-1})\n",
    "sigma_roll_pred = rolling_vol_pred                           # from your previous cell (already shifted)\n",
    "sigma_exp_pred  = df.expanding(WINDOW).std(ddof=1).shift(1)  # expanding vol using data through t-1\n",
    "\n",
    "# Ensure VaR DataFrames are aligned 1:1 with df (same index & columns)\n",
    "VaR_roll = (z05 * sigma_roll_pred).reindex_like(df)\n",
    "VaR_exp  = (z05 * sigma_exp_pred).reindex_like(df)\n",
    "\n",
    "# Hit test (no double shift)\n",
    "hits_roll = (df < VaR_roll) & VaR_roll.notna()\n",
    "hits_exp  = (df < VaR_exp)  & VaR_exp.notna()\n",
    "\n",
    "hit_pct_roll = (hits_roll.sum() / hits_roll.count() * 100).round(2)\n",
    "hit_pct_exp  = (hits_exp.sum()  / hits_exp.count()  * 100).round(2)\n",
    "\n",
    "hit_results = pd.DataFrame({\n",
    "    'Hit % (Expanding vol)': hit_pct_exp,\n",
    "    'Hit % (Rolling vol, m=26)': hit_pct_roll\n",
    "})\n",
    "print(hit_results)\n"
   ]
  }
 ],
 "metadata": {
  "kernelspec": {
   "display_name": "finm",
   "language": "python",
   "name": "python3"
  },
  "language_info": {
   "codemirror_mode": {
    "name": "ipython",
    "version": 3
   },
   "file_extension": ".py",
   "mimetype": "text/x-python",
   "name": "python",
   "nbconvert_exporter": "python",
   "pygments_lexer": "ipython3",
   "version": "3.12.11"
  }
 },
 "nbformat": 4,
 "nbformat_minor": 5
}
