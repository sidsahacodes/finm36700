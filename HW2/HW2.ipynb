{
 "cells": [
  {
   "cell_type": "code",
   "metadata": {
    "ExecuteTime": {
     "end_time": "2025-10-13T00:52:11.201479Z",
     "start_time": "2025-10-13T00:52:11.180268Z"
    }
   },
   "source": [
    "import pandas as pd\n",
    "import numpy as np\n",
    "import scipy.stats as sci\n",
    "\n",
    "data = pd.read_excel(\"proshares_analysis_data.xlsx\", sheet_name=\"hedge_fund_series\",index_col=0)\n",
    "# Forward-fill missing return value at end of HFRIFWI series\n",
    "data[\"HFRIFWI Index\"] = data[\"HFRIFWI Index\"].ffill()\n",
    "\n",
    "mean = data.mean() * 12\n",
    "vol = np.sqrt(data.var() * 12)\n",
    "sharpe = mean / vol\n",
    "print(\"Annualized Mean, Volatility, and Sharpe of Returns\")\n",
    "display(mean, vol, sharpe)"
   ],
   "outputs": [
    {
     "name": "stdout",
     "output_type": "stream",
     "text": [
      "Annualized Mean, Volatility, and Sharpe of Returns\n"
     ]
    },
    {
     "data": {
      "text/plain": [
       "HFRIFWI Index     0.052538\n",
       "MLEIFCTR Index    0.038535\n",
       "MLEIFCTX Index    0.036526\n",
       "HDG US Equity     0.026880\n",
       "QAI US Equity     0.028811\n",
       "dtype: float64"
      ]
     },
     "metadata": {},
     "output_type": "display_data",
     "jetTransient": {
      "display_id": null
     }
    },
    {
     "data": {
      "text/plain": [
       "HFRIFWI Index     0.058813\n",
       "MLEIFCTR Index    0.055240\n",
       "MLEIFCTX Index    0.055102\n",
       "HDG US Equity     0.057388\n",
       "QAI US Equity     0.049823\n",
       "dtype: float64"
      ]
     },
     "metadata": {},
     "output_type": "display_data",
     "jetTransient": {
      "display_id": null
     }
    },
    {
     "data": {
      "text/plain": [
       "HFRIFWI Index     0.893298\n",
       "MLEIFCTR Index    0.697589\n",
       "MLEIFCTX Index    0.662880\n",
       "HDG US Equity     0.468396\n",
       "QAI US Equity     0.578275\n",
       "dtype: float64"
      ]
     },
     "metadata": {},
     "output_type": "display_data",
     "jetTransient": {
      "display_id": null
     }
    }
   ],
   "execution_count": 17
  },
  {
   "cell_type": "code",
   "metadata": {
    "ExecuteTime": {
     "end_time": "2025-10-13T00:52:11.212120Z",
     "start_time": "2025-10-13T00:52:11.209310Z"
    }
   },
   "source": [
    "def drawdown_from_returns(df):\n",
    "    results = {}\n",
    "\n",
    "    for col in df.columns:\n",
    "        s = df[col].dropna()\n",
    "        if s.empty:\n",
    "            results[col] = [0.0, None, None, None]\n",
    "            continue\n",
    "\n",
    "        cumulative = (1 + s).cumprod()\n",
    "        running_max = cumulative.cummax()\n",
    "        drawdown = cumulative / running_max - 1.0\n",
    "\n",
    "        trough = drawdown.idxmin()\n",
    "        peak_level = running_max.loc[trough]\n",
    "        peak = running_max.loc[:trough]\n",
    "        peak = peak[peak == peak_level].index[-1]\n",
    "\n",
    "        post = cumulative.loc[trough:]\n",
    "        rec_hits = post[post >= peak_level]\n",
    "        recovery = rec_hits.index[0] if len(rec_hits) > 0 else None\n",
    "\n",
    "        results[col] = [float(drawdown.min()), peak, trough, recovery]\n",
    "\n",
    "    return pd.DataFrame(results, index=[\"Max Drawdown\", \"Peak Date\", \"Trough Date\", \"Recovery Date\"]).T"
   ],
   "outputs": [],
   "execution_count": 18
  },
  {
   "cell_type": "code",
   "metadata": {
    "ExecuteTime": {
     "end_time": "2025-10-13T00:52:11.234420Z",
     "start_time": "2025-10-13T00:52:11.220947Z"
    }
   },
   "source": [
    "skew = sci.skew(data)\n",
    "kurtosis = sci.kurtosis(data, fisher=True)\n",
    "VaR = data.quantile(0.05)\n",
    "CVaR = data[data <= VaR].mean()\n",
    "drawdowns = drawdown_from_returns(data)\n",
    "skew = pd.Series(skew, index=mean.index)\n",
    "kurtosis = pd.Series(kurtosis, index=mean.index)\n",
    "VaR = pd.Series(VaR, index=mean.index)\n",
    "CVaR = pd.Series(CVaR, index=mean.index)\n",
    "print(\"Skew, Excess Kurtosis, VaR, CVaR, and Max Drawdowns\")\n",
    "display(skew, kurtosis, VaR, CVaR, drawdowns)"
   ],
   "outputs": [
    {
     "name": "stdout",
     "output_type": "stream",
     "text": [
      "Skew, Excess Kurtosis, VaR, CVaR, and Max Drawdowns\n"
     ]
    },
    {
     "data": {
      "text/plain": [
       "HFRIFWI Index    -0.945171\n",
       "MLEIFCTR Index   -0.287417\n",
       "MLEIFCTX Index   -0.271058\n",
       "HDG US Equity    -0.272473\n",
       "QAI US Equity    -0.429674\n",
       "dtype: float64"
      ]
     },
     "metadata": {},
     "output_type": "display_data",
     "jetTransient": {
      "display_id": null
     }
    },
    {
     "data": {
      "text/plain": [
       "HFRIFWI Index     5.426550\n",
       "MLEIFCTR Index    1.548255\n",
       "MLEIFCTX Index    1.508328\n",
       "HDG US Equity     1.689572\n",
       "QAI US Equity     1.371823\n",
       "dtype: float64"
      ]
     },
     "metadata": {},
     "output_type": "display_data",
     "jetTransient": {
      "display_id": null
     }
    },
    {
     "data": {
      "text/plain": [
       "HFRIFWI Index    -0.023997\n",
       "MLEIFCTR Index   -0.027002\n",
       "MLEIFCTX Index   -0.026970\n",
       "HDG US Equity    -0.029919\n",
       "QAI US Equity    -0.017171\n",
       "Name: 0.05, dtype: float64"
      ]
     },
     "metadata": {},
     "output_type": "display_data",
     "jetTransient": {
      "display_id": null
     }
    },
    {
     "data": {
      "text/plain": [
       "HFRIFWI Index    -0.035992\n",
       "MLEIFCTR Index   -0.034993\n",
       "MLEIFCTX Index   -0.034937\n",
       "HDG US Equity    -0.036831\n",
       "QAI US Equity    -0.030995\n",
       "dtype: float64"
      ]
     },
     "metadata": {},
     "output_type": "display_data",
     "jetTransient": {
      "display_id": null
     }
    },
    {
     "data": {
      "text/plain": [
       "               Max Drawdown            Peak Date          Trough Date  \\\n",
       "HFRIFWI Index     -0.115473  2020-03-31 00:00:00  2020-03-31 00:00:00   \n",
       "MLEIFCTR Index    -0.124302  2022-09-30 00:00:00  2022-09-30 00:00:00   \n",
       "MLEIFCTX Index    -0.124388  2022-09-30 00:00:00  2022-09-30 00:00:00   \n",
       "HDG US Equity      -0.14072  2022-09-30 00:00:00  2022-09-30 00:00:00   \n",
       "QAI US Equity     -0.137716  2022-09-30 00:00:00  2022-09-30 00:00:00   \n",
       "\n",
       "                      Recovery Date  \n",
       "HFRIFWI Index   2020-08-31 00:00:00  \n",
       "MLEIFCTR Index  2024-02-29 00:00:00  \n",
       "MLEIFCTX Index  2024-02-29 00:00:00  \n",
       "HDG US Equity   2024-07-31 00:00:00  \n",
       "QAI US Equity   2024-02-29 00:00:00  "
      ],
      "text/html": [
       "<div>\n",
       "<style scoped>\n",
       "    .dataframe tbody tr th:only-of-type {\n",
       "        vertical-align: middle;\n",
       "    }\n",
       "\n",
       "    .dataframe tbody tr th {\n",
       "        vertical-align: top;\n",
       "    }\n",
       "\n",
       "    .dataframe thead th {\n",
       "        text-align: right;\n",
       "    }\n",
       "</style>\n",
       "<table border=\"1\" class=\"dataframe\">\n",
       "  <thead>\n",
       "    <tr style=\"text-align: right;\">\n",
       "      <th></th>\n",
       "      <th>Max Drawdown</th>\n",
       "      <th>Peak Date</th>\n",
       "      <th>Trough Date</th>\n",
       "      <th>Recovery Date</th>\n",
       "    </tr>\n",
       "  </thead>\n",
       "  <tbody>\n",
       "    <tr>\n",
       "      <th>HFRIFWI Index</th>\n",
       "      <td>-0.115473</td>\n",
       "      <td>2020-03-31 00:00:00</td>\n",
       "      <td>2020-03-31 00:00:00</td>\n",
       "      <td>2020-08-31 00:00:00</td>\n",
       "    </tr>\n",
       "    <tr>\n",
       "      <th>MLEIFCTR Index</th>\n",
       "      <td>-0.124302</td>\n",
       "      <td>2022-09-30 00:00:00</td>\n",
       "      <td>2022-09-30 00:00:00</td>\n",
       "      <td>2024-02-29 00:00:00</td>\n",
       "    </tr>\n",
       "    <tr>\n",
       "      <th>MLEIFCTX Index</th>\n",
       "      <td>-0.124388</td>\n",
       "      <td>2022-09-30 00:00:00</td>\n",
       "      <td>2022-09-30 00:00:00</td>\n",
       "      <td>2024-02-29 00:00:00</td>\n",
       "    </tr>\n",
       "    <tr>\n",
       "      <th>HDG US Equity</th>\n",
       "      <td>-0.14072</td>\n",
       "      <td>2022-09-30 00:00:00</td>\n",
       "      <td>2022-09-30 00:00:00</td>\n",
       "      <td>2024-07-31 00:00:00</td>\n",
       "    </tr>\n",
       "    <tr>\n",
       "      <th>QAI US Equity</th>\n",
       "      <td>-0.137716</td>\n",
       "      <td>2022-09-30 00:00:00</td>\n",
       "      <td>2022-09-30 00:00:00</td>\n",
       "      <td>2024-02-29 00:00:00</td>\n",
       "    </tr>\n",
       "  </tbody>\n",
       "</table>\n",
       "</div>"
      ]
     },
     "metadata": {},
     "output_type": "display_data",
     "jetTransient": {
      "display_id": null
     }
    }
   ],
   "execution_count": 19
  },
  {
   "metadata": {
    "ExecuteTime": {
     "end_time": "2025-10-13T00:52:11.268575Z",
     "start_time": "2025-10-13T00:52:11.244248Z"
    }
   },
   "cell_type": "code",
   "source": [
    "# 2.3 — Regression of each hedge-fund series on SPY (include intercept)\n",
    "import statsmodels.api as sm\n",
    "import math\n",
    "\n",
    "# Loading Merrill sheet\n",
    "mfactors = pd.read_excel(\"proshares_analysis_data.xlsx\", sheet_name=\"merrill_factors\", index_col=0)\n",
    "mfactors.index = pd.to_datetime(mfactors.index)\n",
    "data.index = pd.to_datetime(data.index)\n",
    "\n",
    "# making sure indices are aligned\n",
    "df = data.join(mfactors[[\"SPY US Equity\"]], how=\"inner\").dropna()\n",
    "MONTHS = 12\n",
    "\n",
    "def regress_on_spy(y: pd.Series, x: pd.Series):\n",
    "    X = sm.add_constant(x.values, has_constant='add')\n",
    "    res = sm.OLS(y.values, X).fit()\n",
    "    alpha, beta = res.params[0], res.params[1]\n",
    "\n",
    "    # Treynor ratio: annualized mean / beta\n",
    "    treynor_ann = (y.mean() * MONTHS) / beta if beta != 0 else np.nan\n",
    "\n",
    "    # Information ratio: annualized mean of (y - x) over annualized vol of (y - x)\n",
    "    active = y - x\n",
    "    ir_ann = (active.mean() * MONTHS) / (active.std(ddof=1) * math.sqrt(MONTHS))\n",
    "    return alpha, beta, treynor_ann, ir_ann\n",
    "\n",
    "rows = []\n",
    "for col in data.columns:\n",
    "    a, b, t, ir = regress_on_spy(df[col], df[\"SPY US Equity\"])\n",
    "    rows.append({\"Series\": col, \"Alpha (monthly)\": a, \"Market Beta\": b,\n",
    "                 \"Treynor (ann)\": t, \"Info Ratio (ann)\": ir})\n",
    "\n",
    "reg_tbl = pd.DataFrame(rows).set_index(\"Series\").sort_index()\n",
    "print(\"2.3 — Regression vs SPY (with intercept)\")\n",
    "display(reg_tbl)\n"
   ],
   "outputs": [
    {
     "name": "stdout",
     "output_type": "stream",
     "text": [
      "2.3 — Regression vs SPY (with intercept)\n"
     ]
    },
    {
     "data": {
      "text/plain": [
       "                Alpha (monthly)  Market Beta  Treynor (ann)  Info Ratio (ann)\n",
       "Series                                                                       \n",
       "HDG US Equity         -0.001989     0.350602       0.076669         -1.213227\n",
       "HFRIFWI Index          0.000192     0.347095       0.151364         -0.933912\n",
       "MLEIFCTR Index        -0.000920     0.342487       0.112514         -1.087986\n",
       "MLEIFCTX Index        -0.001075     0.341483       0.106963         -1.107047\n",
       "QAI US Equity         -0.001235     0.301413       0.095587         -1.123406"
      ],
      "text/html": [
       "<div>\n",
       "<style scoped>\n",
       "    .dataframe tbody tr th:only-of-type {\n",
       "        vertical-align: middle;\n",
       "    }\n",
       "\n",
       "    .dataframe tbody tr th {\n",
       "        vertical-align: top;\n",
       "    }\n",
       "\n",
       "    .dataframe thead th {\n",
       "        text-align: right;\n",
       "    }\n",
       "</style>\n",
       "<table border=\"1\" class=\"dataframe\">\n",
       "  <thead>\n",
       "    <tr style=\"text-align: right;\">\n",
       "      <th></th>\n",
       "      <th>Alpha (monthly)</th>\n",
       "      <th>Market Beta</th>\n",
       "      <th>Treynor (ann)</th>\n",
       "      <th>Info Ratio (ann)</th>\n",
       "    </tr>\n",
       "    <tr>\n",
       "      <th>Series</th>\n",
       "      <th></th>\n",
       "      <th></th>\n",
       "      <th></th>\n",
       "      <th></th>\n",
       "    </tr>\n",
       "  </thead>\n",
       "  <tbody>\n",
       "    <tr>\n",
       "      <th>HDG US Equity</th>\n",
       "      <td>-0.001989</td>\n",
       "      <td>0.350602</td>\n",
       "      <td>0.076669</td>\n",
       "      <td>-1.213227</td>\n",
       "    </tr>\n",
       "    <tr>\n",
       "      <th>HFRIFWI Index</th>\n",
       "      <td>0.000192</td>\n",
       "      <td>0.347095</td>\n",
       "      <td>0.151364</td>\n",
       "      <td>-0.933912</td>\n",
       "    </tr>\n",
       "    <tr>\n",
       "      <th>MLEIFCTR Index</th>\n",
       "      <td>-0.000920</td>\n",
       "      <td>0.342487</td>\n",
       "      <td>0.112514</td>\n",
       "      <td>-1.087986</td>\n",
       "    </tr>\n",
       "    <tr>\n",
       "      <th>MLEIFCTX Index</th>\n",
       "      <td>-0.001075</td>\n",
       "      <td>0.341483</td>\n",
       "      <td>0.106963</td>\n",
       "      <td>-1.107047</td>\n",
       "    </tr>\n",
       "    <tr>\n",
       "      <th>QAI US Equity</th>\n",
       "      <td>-0.001235</td>\n",
       "      <td>0.301413</td>\n",
       "      <td>0.095587</td>\n",
       "      <td>-1.123406</td>\n",
       "    </tr>\n",
       "  </tbody>\n",
       "</table>\n",
       "</div>"
      ]
     },
     "metadata": {},
     "output_type": "display_data",
     "jetTransient": {
      "display_id": null
     }
    }
   ],
   "execution_count": 20
  },
  {
   "metadata": {},
   "cell_type": "markdown",
   "source": [
    "### **2.4 — Discussion and Interpretation**\n",
    "\n",
    "#### **1️⃣ Market Exposure and Performance**\n",
    "Across all hedge-fund replication products—**HDG**, **HFRIFWI**, **MLEIFCTR**, **MLEIFCTX**, and **QAI**—the results show consistent **annualized mean returns** between roughly **2.7% and 5.3%**.\n",
    "Volatilities fall in the **5–6%** range, leading to **Sharpe ratios** between **0.47 and 0.89**, with **HFRIFWI Index** producing the highest Sharpe ratio (**0.89**) and **HDG** the lowest (**0.47**).\n",
    "This indicates that the **broad hedge-fund index (HFRIFWI)** offered the most efficient risk-adjusted returns, while the ETF proxies delivered weaker performance.\n",
    "\n",
    "#### **2️⃣ Downside and Tail Risk**\n",
    "Maximum drawdowns for all series occur during stress periods such as **2020–2022**, with losses ranging from **−11.5% (HFRIFWI)** to **−14.1% (HDG)**.\n",
    "Recovery dates typically occur by mid- to late-2024, showing that these products eventually recoup losses but only after extended drawdown periods.\n",
    "**VaR(5%)** and **CVaR(5%)** results confirm mild but noticeable left-tail risk, with 5th-percentile returns around **−2% to −3%** and average extreme losses near **−3.5%**.\n",
    "**Skewness** is negative for most series, and **excess kurtosis** (≈1.5–5.4) indicates heavier tails relative to the normal distribution, consistent with hedge-fund style return distributions.\n",
    "\n",
    "#### **3️⃣ Market Betas, Treynor Ratios, and Alphas**\n",
    "All strategies have **market betas between 0.30 and 0.35**, meaning they capture roughly **one-third of SPY’s equity exposure**—consistent with being diversified or hedged portfolios rather than pure equity bets.\n",
    "Monthly **alphas** hover around zero (slightly negative for most ETFs), confirming that these are **beta replication vehicles**, not alpha-generating funds.\n",
    "\n",
    "In terms of **Treynor Ratios (annualized)**:\n",
    "- **HFRIFWI Index:** 0.15 — best risk-adjusted return per unit of beta\n",
    "- **MLEIFCTR/CTX:** 0.11\n",
    "- **QAI:** 0.10\n",
    "- **HDG:** 0.08\n",
    "\n",
    "Thus, the **broad hedge-fund index (HFRIFWI)** delivered the best market-adjusted return, while the ETFs underperformed on a risk-adjusted basis.\n",
    "\n",
    "#### **4️⃣ Information Ratios**\n",
    "All Information Ratios are **negative (≈ −0.9 to −1.2)**, implying that **each product underperformed SPY** after adjusting for volatility.\n",
    "This suggests that the replicating ETFs and Merrill factor indices failed to outperform the equity benchmark during the sample period, though they were never designed to—these products aim to provide diversified exposure with lower volatility, not excess return.\n",
    "\n",
    "#### **5️⃣ HDG vs QAI Comparison**\n",
    "**HDG** and **QAI** both have similar market betas (0.35 vs 0.30) and comparable negative alphas.\n",
    "**HDG** exhibits slightly higher volatility and a marginally better Treynor ratio, but both ETFs have **equally negative information ratios (~−1.1)**, indicating similar underperformance relative to SPY.\n",
    "Both provide low-beta equity exposure with modest drawdowns and limited upside.\n",
    "\n",
    "#### **6️⃣ Overall Takeaways**\n",
    "- The hedge-fund indices and replication ETFs primarily deliver **beta exposure** to systematic factors rather than true hedge-fund alpha.\n",
    "- **HFRIFWI Index** remains the most efficient performer (highest Sharpe and Treynor).\n",
    "- **HDG** and **QAI** successfully mimic the general behavior of hedge-fund benchmarks (low beta, steady returns) but do not add alpha.\n",
    "- These products are valuable as **low-volatility diversifiers**, not as sources of excess return relative to the market.\n"
   ]
  },
  {
   "metadata": {
    "ExecuteTime": {
     "end_time": "2025-10-13T00:52:11.368868Z",
     "start_time": "2025-10-13T00:52:11.280756Z"
    }
   },
   "cell_type": "code",
   "source": [
    "# 2.5 — Correlation matrix and heat map\n",
    "import numpy as np\n",
    "import matplotlib.pyplot as plt\n",
    "\n",
    "corr = data.corr()\n",
    "print(\"2.5 — Correlation matrix\")\n",
    "display(corr)\n",
    "\n",
    "fig, ax = plt.subplots(figsize=(8,6))\n",
    "im = ax.imshow(corr.values, aspect='auto', cmap='coolwarm', vmin=-1, vmax=1)\n",
    "ax.set_xticks(range(len(corr.columns))); ax.set_xticklabels(corr.columns, rotation=90)\n",
    "ax.set_yticks(range(len(corr.index)));  ax.set_yticklabels(corr.index)\n",
    "ax.set_title(\"Correlation Heat Map — Hedge-Fund Series\")\n",
    "fig.colorbar(im, ax=ax)\n",
    "plt.tight_layout(); plt.show()\n",
    "\n",
    "# Highest/lowest off-diagonal correlations\n",
    "mask = ~np.eye(len(corr), dtype=bool)\n",
    "vals = corr.where(mask)\n",
    "ij_max = np.unravel_index(np.nanargmax(vals.values), vals.shape)\n",
    "ij_min = np.unravel_index(np.nanargmin(vals.values), vals.shape)\n",
    "print(\"Highest correlation:\", corr.index[ij_max[0]], \"<->\", corr.columns[ij_max[1]], f\"{vals.values[ij_max]:.3f}\")\n",
    "print(\"Lowest correlation:\",  corr.index[ij_min[0]], \"<->\", corr.columns[ij_min[1]], f\"{vals.values[ij_min]:.3f}\")\n"
   ],
   "outputs": [
    {
     "name": "stdout",
     "output_type": "stream",
     "text": [
      "2.5 — Correlation matrix\n"
     ]
    },
    {
     "data": {
      "text/plain": [
       "                HFRIFWI Index  MLEIFCTR Index  MLEIFCTX Index  HDG US Equity  \\\n",
       "HFRIFWI Index        1.000000        0.900840        0.900207       0.890354   \n",
       "MLEIFCTR Index       0.900840        1.000000        0.999887       0.987877   \n",
       "MLEIFCTX Index       0.900207        0.999887        1.000000       0.987703   \n",
       "HDG US Equity        0.890354        0.987877        0.987703       1.000000   \n",
       "QAI US Equity        0.858747        0.893611        0.893374       0.879289   \n",
       "\n",
       "                QAI US Equity  \n",
       "HFRIFWI Index        0.858747  \n",
       "MLEIFCTR Index       0.893611  \n",
       "MLEIFCTX Index       0.893374  \n",
       "HDG US Equity        0.879289  \n",
       "QAI US Equity        1.000000  "
      ],
      "text/html": [
       "<div>\n",
       "<style scoped>\n",
       "    .dataframe tbody tr th:only-of-type {\n",
       "        vertical-align: middle;\n",
       "    }\n",
       "\n",
       "    .dataframe tbody tr th {\n",
       "        vertical-align: top;\n",
       "    }\n",
       "\n",
       "    .dataframe thead th {\n",
       "        text-align: right;\n",
       "    }\n",
       "</style>\n",
       "<table border=\"1\" class=\"dataframe\">\n",
       "  <thead>\n",
       "    <tr style=\"text-align: right;\">\n",
       "      <th></th>\n",
       "      <th>HFRIFWI Index</th>\n",
       "      <th>MLEIFCTR Index</th>\n",
       "      <th>MLEIFCTX Index</th>\n",
       "      <th>HDG US Equity</th>\n",
       "      <th>QAI US Equity</th>\n",
       "    </tr>\n",
       "  </thead>\n",
       "  <tbody>\n",
       "    <tr>\n",
       "      <th>HFRIFWI Index</th>\n",
       "      <td>1.000000</td>\n",
       "      <td>0.900840</td>\n",
       "      <td>0.900207</td>\n",
       "      <td>0.890354</td>\n",
       "      <td>0.858747</td>\n",
       "    </tr>\n",
       "    <tr>\n",
       "      <th>MLEIFCTR Index</th>\n",
       "      <td>0.900840</td>\n",
       "      <td>1.000000</td>\n",
       "      <td>0.999887</td>\n",
       "      <td>0.987877</td>\n",
       "      <td>0.893611</td>\n",
       "    </tr>\n",
       "    <tr>\n",
       "      <th>MLEIFCTX Index</th>\n",
       "      <td>0.900207</td>\n",
       "      <td>0.999887</td>\n",
       "      <td>1.000000</td>\n",
       "      <td>0.987703</td>\n",
       "      <td>0.893374</td>\n",
       "    </tr>\n",
       "    <tr>\n",
       "      <th>HDG US Equity</th>\n",
       "      <td>0.890354</td>\n",
       "      <td>0.987877</td>\n",
       "      <td>0.987703</td>\n",
       "      <td>1.000000</td>\n",
       "      <td>0.879289</td>\n",
       "    </tr>\n",
       "    <tr>\n",
       "      <th>QAI US Equity</th>\n",
       "      <td>0.858747</td>\n",
       "      <td>0.893611</td>\n",
       "      <td>0.893374</td>\n",
       "      <td>0.879289</td>\n",
       "      <td>1.000000</td>\n",
       "    </tr>\n",
       "  </tbody>\n",
       "</table>\n",
       "</div>"
      ]
     },
     "metadata": {},
     "output_type": "display_data",
     "jetTransient": {
      "display_id": null
     }
    },
    {
     "data": {
      "text/plain": [
       "<Figure size 800x600 with 2 Axes>"
      ],
      "image/png": "[encoded data removed]"
     },
     "metadata": {},
     "output_type": "display_data",
     "jetTransient": {
      "display_id": null
     }
    },
    {
     "name": "stdout",
     "output_type": "stream",
     "text": [
      "Highest correlation: MLEIFCTR Index <-> MLEIFCTX Index 1.000\n",
      "Lowest correlation: HFRIFWI Index <-> QAI US Equity 0.859\n"
     ]
    }
   ],
   "execution_count": 21
  },
  {
   "metadata": {},
   "cell_type": "markdown",
   "source": [
    "### **2.5 — Correlation Analysis of Hedge-Fund Series**\n",
    "\n",
    "**a. Correlation Matrix and Heat Map Interpretation**\n",
    "\n",
    "The correlation matrix and heat map above show extremely **high correlations** among all five hedge-fund and replication series.\n",
    "This is expected, as each product or model aims to capture the same underlying hedge-fund index (HFRI) risk-return dynamics using similar factor exposures.\n",
    "\n",
    "| Series Pair | Correlation | Interpretation |\n",
    "|:--|--:|:--|\n",
    "| **MLEIFCTR Index ↔ MLEIFCTX Index** | **1.000** | Perfect correlation — these two are essentially identical (the extended version adds minimal change). |\n",
    "| **HFRIFWI Index ↔ MLEIFCTR Index** | 0.901 | Very strong correlation — the Merrill replication closely tracks the HFRI benchmark. |\n",
    "| **HFRIFWI Index ↔ HDG US Equity** | 0.890 | Nearly as strong — ProShares HDG ETF replicates hedge-fund index movements effectively. |\n",
    "| **HFRIFWI Index ↔ QAI US Equity** | **0.859 (lowest)** | Still high but meaningfully lower — QAI’s broader alternative ETF approach diverges slightly more from HFRI. |\n",
    "\n",
    "---\n",
    "\n",
    "**b. Key Insights**\n",
    "\n",
    "- The **highest correlation** is between **MLEIFCTR and MLEIFCTX (1.000)**, confirming that the “X” variant is simply an extended or adjusted form of the base factor model, not a fundamentally different series.\n",
    "- The **lowest correlation** is between **HFRIFWI and QAI (0.859)**, reflecting that while QAI offers hedge-like diversification, it is not designed to precisely track hedge-fund index performance.\n",
    "- **HDG** and **MLEIFCTR** both maintain strong co-movements with HFRI, reinforcing that they are well-constructed replication products.\n",
    "\n",
    "---\n",
    "\n",
    "**c. Interpretation**\n",
    "\n",
    "The heat map reveals a near-uniform red block, confirming that **all series move together** with limited idiosyncratic deviation.\n",
    "This underscores the success of replication strategies in mimicking hedge-fund beta exposure but also highlights that these “hedge-fund ETFs” are **not providing true alpha** — they are beta-based products moving in tandem with market factors.\n",
    "\n",
    "**Conclusion:**\n",
    "The correlations demonstrate that **MLEIFCTR** and **HDG** most effectively mirror hedge-fund index dynamics, while **QAI** provides broader alternative exposure with slightly lower fidelity to HFRI movements.\n"
   ]
  },
  {
   "metadata": {
    "ExecuteTime": {
     "end_time": "2025-10-13T00:52:11.384694Z",
     "start_time": "2025-10-13T00:52:11.375962Z"
    }
   },
   "cell_type": "code",
   "source": [
    "# 2.6 — Replication of HFRI using the 5 available Merrill factors (with intercept)\n",
    "import statsmodels.api as sm\n",
    "import math\n",
    "import pandas as pd\n",
    "import numpy as np\n",
    "\n",
    "# Choose HFRI target from your 'data'\n",
    "hfri_candidates = [c for c in data.columns if \"HFRI\" in c.upper()]\n",
    "if not hfri_candidates:\n",
    "    hfri_candidates = [\"HFRIFWI Index\"]\n",
    "HFRI = hfri_candidates[0]\n",
    "\n",
    "# Use the 5 available non-SPY factors explicitly\n",
    "factors_n = [\"USGG3M Index\", \"EEM US Equity\", \"EFA US Equity\", \"EUO US Equity\", \"IWM US Equity\"]\n",
    "\n",
    "# Align and run OLS with intercept\n",
    "aligned = data[[HFRI]].join(mfactors[factors_n], how=\"inner\").dropna()\n",
    "X = sm.add_constant(aligned[factors_n].values, has_constant='add')\n",
    "y = aligned[HFRI].values\n",
    "res = sm.OLS(y, X).fit()\n",
    "\n",
    "coef = pd.Series(res.params, index=[\"Intercept\"] + factors_n)\n",
    "r2 = res.rsquared\n",
    "fitted = pd.Series(res.fittedvalues, index=aligned.index)\n",
    "\n",
    "# Tracking error vol (monthly and annualized)\n",
    "eps = y - fitted\n",
    "te_vol_m = eps.std(ddof=1)\n",
    "te_vol_a = te_vol_m * math.sqrt(12)\n",
    "\n",
    "print(f\"2.6 — Replication of {HFRI} using 5 factors (with intercept)\")\n",
    "display(coef.to_frame(\"Coefficient\"))\n",
    "print(f\"R²: {r2:.4f}\")\n",
    "print(f\"Tracking error volatility — monthly: {te_vol_m:.4%} | annualized: {te_vol_a:.4%}\")\n",
    "\n",
    "# Realism check: sum of absolute betas\n",
    "abs_betas = coef[factors_n].abs()\n",
    "print(\"Gross |beta| sum (realism check):\", abs_betas.sum())\n",
    "display(abs_betas.to_frame(\"|beta|\"))\n"
   ],
   "outputs": [
    {
     "name": "stdout",
     "output_type": "stream",
     "text": [
      "2.6 — Replication of HFRIFWI Index using 5 factors (with intercept)\n"
     ]
    },
    {
     "data": {
      "text/plain": [
       "               Coefficient\n",
       "Intercept         0.001366\n",
       "USGG3M Index      0.363728\n",
       "EEM US Equity     0.088371\n",
       "EFA US Equity     0.092960\n",
       "EUO US Equity     0.034047\n",
       "IWM US Equity     0.161911"
      ],
      "text/html": [
       "<div>\n",
       "<style scoped>\n",
       "    .dataframe tbody tr th:only-of-type {\n",
       "        vertical-align: middle;\n",
       "    }\n",
       "\n",
       "    .dataframe tbody tr th {\n",
       "        vertical-align: top;\n",
       "    }\n",
       "\n",
       "    .dataframe thead th {\n",
       "        text-align: right;\n",
       "    }\n",
       "</style>\n",
       "<table border=\"1\" class=\"dataframe\">\n",
       "  <thead>\n",
       "    <tr style=\"text-align: right;\">\n",
       "      <th></th>\n",
       "      <th>Coefficient</th>\n",
       "    </tr>\n",
       "  </thead>\n",
       "  <tbody>\n",
       "    <tr>\n",
       "      <th>Intercept</th>\n",
       "      <td>0.001366</td>\n",
       "    </tr>\n",
       "    <tr>\n",
       "      <th>USGG3M Index</th>\n",
       "      <td>0.363728</td>\n",
       "    </tr>\n",
       "    <tr>\n",
       "      <th>EEM US Equity</th>\n",
       "      <td>0.088371</td>\n",
       "    </tr>\n",
       "    <tr>\n",
       "      <th>EFA US Equity</th>\n",
       "      <td>0.092960</td>\n",
       "    </tr>\n",
       "    <tr>\n",
       "      <th>EUO US Equity</th>\n",
       "      <td>0.034047</td>\n",
       "    </tr>\n",
       "    <tr>\n",
       "      <th>IWM US Equity</th>\n",
       "      <td>0.161911</td>\n",
       "    </tr>\n",
       "  </tbody>\n",
       "</table>\n",
       "</div>"
      ]
     },
     "metadata": {},
     "output_type": "display_data",
     "jetTransient": {
      "display_id": null
     }
    },
    {
     "name": "stdout",
     "output_type": "stream",
     "text": [
      "R²: 0.8411\n",
      "Tracking error volatility — monthly: 0.6768% | annualized: 2.3446%\n",
      "Gross |beta| sum (realism check): 0.7410171880467153\n"
     ]
    },
    {
     "data": {
      "text/plain": [
       "                 |beta|\n",
       "USGG3M Index   0.363728\n",
       "EEM US Equity  0.088371\n",
       "EFA US Equity  0.092960\n",
       "EUO US Equity  0.034047\n",
       "IWM US Equity  0.161911"
      ],
      "text/html": [
       "<div>\n",
       "<style scoped>\n",
       "    .dataframe tbody tr th:only-of-type {\n",
       "        vertical-align: middle;\n",
       "    }\n",
       "\n",
       "    .dataframe tbody tr th {\n",
       "        vertical-align: top;\n",
       "    }\n",
       "\n",
       "    .dataframe thead th {\n",
       "        text-align: right;\n",
       "    }\n",
       "</style>\n",
       "<table border=\"1\" class=\"dataframe\">\n",
       "  <thead>\n",
       "    <tr style=\"text-align: right;\">\n",
       "      <th></th>\n",
       "      <th>|beta|</th>\n",
       "    </tr>\n",
       "  </thead>\n",
       "  <tbody>\n",
       "    <tr>\n",
       "      <th>USGG3M Index</th>\n",
       "      <td>0.363728</td>\n",
       "    </tr>\n",
       "    <tr>\n",
       "      <th>EEM US Equity</th>\n",
       "      <td>0.088371</td>\n",
       "    </tr>\n",
       "    <tr>\n",
       "      <th>EFA US Equity</th>\n",
       "      <td>0.092960</td>\n",
       "    </tr>\n",
       "    <tr>\n",
       "      <th>EUO US Equity</th>\n",
       "      <td>0.034047</td>\n",
       "    </tr>\n",
       "    <tr>\n",
       "      <th>IWM US Equity</th>\n",
       "      <td>0.161911</td>\n",
       "    </tr>\n",
       "  </tbody>\n",
       "</table>\n",
       "</div>"
      ]
     },
     "metadata": {},
     "output_type": "display_data",
     "jetTransient": {
      "display_id": null
     }
    }
   ],
   "execution_count": 22
  },
  {
   "metadata": {},
   "cell_type": "markdown",
   "source": [
    "### **2.6 — HFRI Replication using 5 Merrill Factors (with intercept)**\n",
    "\n",
    "**a. Intercept and Betas:**\n",
    "The regression on the five Merrill factors produced the following coefficients:\n",
    "\n",
    "| Factor | Beta |\n",
    "|:--|--:|\n",
    "| Intercept | 0.00137 |\n",
    "| USGG3M Index | 0.364 |\n",
    "| EEM US Equity | 0.088 |\n",
    "| EFA US Equity | 0.093 |\n",
    "| EUO US Equity | 0.034 |\n",
    "| IWM US Equity | 0.162 |\n",
    "\n",
    "**b. Realism of Betas:**\n",
    "The absolute betas sum to **≈ 0.74**, which is comfortably below 1.\n",
    "This implies that the replication portfolio does **not** require extreme leverage or large long/short positions.\n",
    "Each beta magnitude is moderate and consistent with plausible factor exposures—moderate sensitivity to short-term rates (USGG3M), small exposure to U.S. small-caps (IWM), and smaller tilts toward international and emerging-market equities (EFA, EEM).\n",
    "Thus, the betas appear **realistic** for an ETF-based replication strategy.\n",
    "\n",
    "**c. \\(R^2\\):**\n",
    "The model achieves an \\(R^2 = 0.8411\\), meaning about **84 % of HFRIFWI’s monthly return variance** is explained by these five factors.\n",
    "This shows a **strong in-sample fit**, consistent with the idea that hedge-fund index returns can be largely reproduced through systematic factor exposures.\n",
    "\n",
    "**d. Tracking-Error Volatility:**\n",
    "The monthly tracking-error volatility is **0.68 %**, which annualizes to **≈ 2.34 %**.\n",
    "This is relatively small—suggesting that the replication tracks the HFRI benchmark closely, with limited deviation.\n",
    "\n",
    "**Interpretation Summary:**\n",
    "- The replication model captures most of HFRI’s variation with moderate factor exposures.\n",
    "- Coefficient sizes are realistic (no excessive leverage).\n",
    "- The high \\(R^2\\) and low tracking error indicate that the **HFRI index is largely beta-driven**, and that **hedge-fund returns can be approximated using common equity, rate, and FX factors.**\n"
   ]
  },
  {
   "metadata": {
    "ExecuteTime": {
     "end_time": "2025-10-13T00:52:11.536006Z",
     "start_time": "2025-10-13T00:52:11.393955Z"
    }
   },
   "cell_type": "code",
   "source": [
    "# 2.7 — Rolling 60-month OOS replication (using the same 5-factor set)\n",
    "ROLL = 60\n",
    "oos_fit = pd.Series(index=aligned.index, dtype=float)\n",
    "\n",
    "for i in range(ROLL, len(aligned)):\n",
    "    train = aligned.iloc[i-ROLL:i]\n",
    "    testX = aligned.iloc[i:i+1][factors_n]\n",
    "    Xtr = sm.add_constant(train[factors_n].values, has_constant='add')\n",
    "    ytr = train[HFRI].values\n",
    "    resr = sm.OLS(ytr, Xtr).fit()\n",
    "    Xt = sm.add_constant(testX.values, has_constant='add')\n",
    "    oos_fit.iloc[i] = float((Xt @ resr.params).item())\n",
    "\n",
    "mask = oos_fit.notna()\n",
    "y_oos = aligned.loc[mask, HFRI]\n",
    "f_oos = oos_fit.loc[mask]\n",
    "\n",
    "oos_corr = np.corrcoef(y_oos, f_oos)[0,1]\n",
    "oos_te_m = (y_oos - f_oos).std(ddof=1)\n",
    "oos_te_a = oos_te_m * math.sqrt(12)\n",
    "print(f\"2.7 — OOS correlation: {oos_corr:.3f}\")\n",
    "print(f\"2.7 — OOS tracking error volatility — monthly: {oos_te_m:.4%} | annualized: {oos_te_a:.4%}\")\n",
    "\n",
    "def cum_from_simple(r: pd.Series) -> pd.Series:\n",
    "    return (1 + r.fillna(0)).cumprod()\n",
    "\n",
    "import matplotlib.pyplot as plt\n",
    "fig, ax = plt.subplots(figsize=(8,4))\n",
    "ax.plot(y_oos.index, cum_from_simple(y_oos), label=f\"{HFRI} (actual)\")\n",
    "ax.plot(f_oos.index, cum_from_simple(f_oos), label=f\"{HFRI} (OOS replication)\")\n",
    "ax.set_title(f\"OOS Replication — Rolling {ROLL} Months (5-factor model)\")\n",
    "ax.legend(); ax.set_xlabel(\"Date\"); ax.set_ylabel(\"Cumulative Growth ($1 start)\")\n",
    "plt.tight_layout(); plt.show()\n"
   ],
   "outputs": [
    {
     "name": "stdout",
     "output_type": "stream",
     "text": [
      "2.7 — OOS correlation: 0.904\n",
      "2.7 — OOS tracking error volatility — monthly: 0.7819% | annualized: 2.7087%\n"
     ]
    },
    {
     "data": {
      "text/plain": [
       "<Figure size 800x400 with 1 Axes>"
      ],
      "image/png": "[encoded data removed]"
     },
     "metadata": {},
     "output_type": "display_data",
     "jetTransient": {
      "display_id": null
     }
    }
   ],
   "execution_count": 23
  },
  {
   "metadata": {},
   "cell_type": "markdown",
   "source": [
    "### **2.7 — Out-of-Sample (OOS) Replication**\n",
    "\n",
    "The 60-month rolling regression produces an out-of-sample replication of the **HFRIFWI Index** based on the same five Merrill factors.\n",
    "The cumulative-growth chart above shows that the OOS replication follows the actual HFRI Index trajectory closely until roughly **2021**, after which it begins to **lag the target modestly**.\n",
    "\n",
    "**Key observations:**\n",
    "- The OOS correlation between actual and replicated returns is high (≈ 0.90 ±), confirming that factor exposures remain broadly stable through time.\n",
    "- The **tracking-error volatility** remains low (≈ 0.6–0.8 % monthly, ≈ 2–3 % annualized), indicating that deviations from the target are limited.\n",
    "- However, from 2021–2024 the replication slightly **underperforms** the HFRI benchmark, likely because hedge-fund returns benefitted from nonlinear exposures (optionality, timing, illiquidity premia) not captured by linear factor betas.\n",
    "- Periods such as the post-COVID rally show **short-term divergence**, but the overall co-movement remains strong.\n",
    "\n",
    "**Interpretation:**\n",
    "The OOS results confirm that most of the hedge-fund index’s return pattern is **systematic and replicable** using a small set of liquid factors.\n",
    "The modest degradation out-of-sample is expected due to changing market regimes and estimation error, but overall the replication remains **reasonably accurate and stable**, validating the core premise of **factor-based hedge-fund replication.**\n"
   ]
  },
  {
   "metadata": {
    "ExecuteTime": {
     "end_time": "2025-10-13T00:52:11.548625Z",
     "start_time": "2025-10-13T00:52:11.540743Z"
    }
   },
   "cell_type": "code",
   "source": [
    "# 2.8 — No-intercept replication and comparison to with-intercept\n",
    "import numpy as np\n",
    "import pandas as pd\n",
    "import statsmodels.api as sm\n",
    "\n",
    "# --- Identify target and factors (reuse your setup; adjust only if names differ) ---\n",
    "hfri_candidates = [c for c in data.columns if \"HFRI\" in c.upper()]\n",
    "if not hfri_candidates:\n",
    "    hfri_candidates = [\"HFRIFWI Index\"]\n",
    "HFRI = hfri_candidates[0]\n",
    "\n",
    "# Use the 5 non-SPY factors you have\n",
    "factors_n = [\"USGG3M Index\", \"EEM US Equity\", \"EFA US Equity\", \"EUO US Equity\", \"IWM US Equity\"]\n",
    "\n",
    "# Align data\n",
    "aligned = data[[HFRI]].join(mfactors[factors_n], how=\"inner\").dropna()\n",
    "\n",
    "# --- WITH-INTERCEPT fit (for comparison; skipped if 'fitted' already exists) ---\n",
    "if \"fitted\" not in globals():\n",
    "    X_wi = sm.add_constant(aligned[factors_n].values, has_constant='add')\n",
    "    y     = aligned[HFRI].values\n",
    "    res_wi = sm.OLS(y, X_wi).fit()\n",
    "    fitted = pd.Series(res_wi.fittedvalues, index=aligned.index)  # used below\n",
    "else:\n",
    "    y = aligned[HFRI].values  # ensure y is defined\n",
    "\n",
    "# --- NO-INTERCEPT fit ---\n",
    "X_noi = aligned[factors_n].values\n",
    "res_noi = sm.OLS(y, X_noi).fit()\n",
    "\n",
    "betas_noi   = pd.Series(res_noi.params, index=factors_n, name=\"beta (no intercept)\")\n",
    "fit_noi     = pd.Series(res_noi.fittedvalues, index=aligned.index, name=\"fitted (no intercept)\")\n",
    "mean_fit_noi = float(fit_noi.mean())\n",
    "mean_hfri    = float(aligned[HFRI].mean())\n",
    "\n",
    "# Correlations vs HFRI\n",
    "corr_noi = float(np.corrcoef(aligned[HFRI].values, fit_noi.values)[0,1])\n",
    "corr_wi  = float(np.corrcoef(aligned[HFRI].values, fitted.values)[0,1])\n",
    "\n",
    "print(\"2.8 — Betas (no intercept)\")\n",
    "display(betas_noi.to_frame())\n",
    "\n",
    "print(f\"Mean of fitted (no intercept): {mean_fit_noi:.4%}  |  Mean of HFRI: {mean_hfri:.4%}\")\n",
    "print(f\"Correlation (fitted_no_intercept, HFRI): {corr_noi:.3f}\")\n",
    "print(f\"Correlation (fitted_with_intercept,  HFRI): {corr_wi:.3f}\")\n",
    "\n"
   ],
   "outputs": [
    {
     "name": "stdout",
     "output_type": "stream",
     "text": [
      "2.8 — Betas (no intercept)\n"
     ]
    },
    {
     "data": {
      "text/plain": [
       "               beta (no intercept)\n",
       "USGG3M Index              0.773503\n",
       "EEM US Equity             0.087055\n",
       "EFA US Equity             0.095761\n",
       "EUO US Equity             0.037773\n",
       "IWM US Equity             0.164231"
      ],
      "text/html": [
       "<div>\n",
       "<style scoped>\n",
       "    .dataframe tbody tr th:only-of-type {\n",
       "        vertical-align: middle;\n",
       "    }\n",
       "\n",
       "    .dataframe tbody tr th {\n",
       "        vertical-align: top;\n",
       "    }\n",
       "\n",
       "    .dataframe thead th {\n",
       "        text-align: right;\n",
       "    }\n",
       "</style>\n",
       "<table border=\"1\" class=\"dataframe\">\n",
       "  <thead>\n",
       "    <tr style=\"text-align: right;\">\n",
       "      <th></th>\n",
       "      <th>beta (no intercept)</th>\n",
       "    </tr>\n",
       "  </thead>\n",
       "  <tbody>\n",
       "    <tr>\n",
       "      <th>USGG3M Index</th>\n",
       "      <td>0.773503</td>\n",
       "    </tr>\n",
       "    <tr>\n",
       "      <th>EEM US Equity</th>\n",
       "      <td>0.087055</td>\n",
       "    </tr>\n",
       "    <tr>\n",
       "      <th>EFA US Equity</th>\n",
       "      <td>0.095761</td>\n",
       "    </tr>\n",
       "    <tr>\n",
       "      <th>EUO US Equity</th>\n",
       "      <td>0.037773</td>\n",
       "    </tr>\n",
       "    <tr>\n",
       "      <th>IWM US Equity</th>\n",
       "      <td>0.164231</td>\n",
       "    </tr>\n",
       "  </tbody>\n",
       "</table>\n",
       "</div>"
      ]
     },
     "metadata": {},
     "output_type": "display_data",
     "jetTransient": {
      "display_id": null
     }
    },
    {
     "name": "stdout",
     "output_type": "stream",
     "text": [
      "Mean of fitted (no intercept): 0.3576%  |  Mean of HFRI: 0.4378%\n",
      "Correlation (fitted_no_intercept, HFRI): 0.916\n",
      "Correlation (fitted_with_intercept,  HFRI): 0.917\n"
     ]
    }
   ],
   "execution_count": 24
  },
  {
   "metadata": {},
   "cell_type": "markdown",
   "source": [
    "### **2.8 — No-Intercept vs With-Intercept Comparison**\n",
    "\n",
    "**a. Estimated Betas (No-Intercept Model):**\n",
    "| Factor | Beta (no intercept) |\n",
    "|:--|--:|\n",
    "| USGG3M Index | 0.7735 |\n",
    "| EEM US Equity | 0.0871 |\n",
    "| EFA US Equity | 0.0958 |\n",
    "| EUO US Equity | 0.0378 |\n",
    "| IWM US Equity | 0.1642 |\n",
    "\n",
    "Relative to the with-intercept model, the betas—especially **USGG3M Index**—increase substantially in magnitude.\n",
    "This happens because the regression, forced through the origin, must compensate for the missing intercept by adjusting factor loadings upward.\n",
    "As a result, the no-intercept model slightly overstates factor sensitivities and can distort exposure balance.\n",
    "\n",
    "---\n",
    "\n",
    "**b. Mean of Fitted Values:**\n",
    "- Mean of fitted (no intercept): **0.3576% per month**\n",
    "- Mean of HFRI: **0.4378% per month**\n",
    "\n",
    "The no-intercept model underestimates the mean return of the HFRI index.\n",
    "By removing the constant term, the regression can no longer capture the small positive “average alpha” observed in the with-intercept specification.\n",
    "This leads to a systematic bias downward in expected return.\n",
    "\n",
    "---\n",
    "\n",
    "**c. Correlation with HFRI:**\n",
    "- Correlation (no intercept): **0.916**\n",
    "- Correlation (with intercept): **0.917**\n",
    "\n",
    "The correlations are nearly identical, confirming that both models explain similar patterns of month-to-month variation.\n",
    "However, the intercept improves the **mean alignment** and reduces bias in the level of returns.\n",
    "\n",
    "---\n",
    "\n",
    "**d. Conclusion — Should an Intercept Be Included?**\n",
    "The inclusion of an intercept slightly improves both the mean fit and overall correlation, and prevents factor coefficients from inflating.\n",
    "Therefore, **Merrill and ProShares almost certainly estimated their replication model with an intercept**, allowing the regression to capture the average return of the hedge-fund index alongside systematic factor exposures.\n",
    "\n",
    "**Overall Interpretation:**\n",
    "- The no-intercept model tracks the HFRI closely but understates average returns.\n",
    "- The intercept absorbs the mean residual (≈ 0.1% per month), stabilizing the fit.\n",
    "- Consequently, the **with-intercept model provides the most accurate and economically sensible replication** of hedge-fund index performance.\n"
   ]
  },
  {
   "metadata": {},
   "cell_type": "code",
   "outputs": [],
   "execution_count": null,
   "source": ""
  }
 ],
 "metadata": {
  "kernelspec": {
   "display_name": "base",
   "language": "python",
   "name": "python3"
  },
  "language_info": {
   "codemirror_mode": {
    "name": "ipython",
    "version": 3
   },
   "file_extension": ".py",
   "mimetype": "text/x-python",
   "name": "python",
   "nbconvert_exporter": "python",
   "pygments_lexer": "ipython3",
   "version": "3.12.4"
  },
  "orig_nbformat": 4
 },
 "nbformat": 4,
 "nbformat_minor": 2
}
